{
  "nbformat": 4,
  "nbformat_minor": 0,
  "metadata": {
    "colab": {
      "name": "VnStock 2.0 - ChatBot.ipynb",
      "provenance": [],
      "collapsed_sections": [],
      "authorship_tag": "ABX9TyP6Bt5C47SKwxEnjAGV8sAm",
      "include_colab_link": true
    },
    "kernelspec": {
      "name": "python3",
      "display_name": "Python 3"
    }
  },
  "cells": [
    {
      "cell_type": "markdown",
      "metadata": {
        "id": "view-in-github",
        "colab_type": "text"
      },
      "source": [
        "<a href=\"https://colab.research.google.com/github/taipm/chatbot2/blob/main/VnStock_2_0_ChatBot.ipynb\" target=\"_parent\"><img src=\"https://colab.research.google.com/assets/colab-badge.svg\" alt=\"Open In Colab\"/></a>"
      ]
    },
    {
      "cell_type": "code",
      "metadata": {
        "id": "ZJpQwz3BAtLX",
        "outputId": "bd9eb748-9a3e-4d5e-af81-ca6002ed87aa",
        "colab": {
          "base_uri": "https://localhost:8080/"
        }
      },
      "source": [
        "!pip install Flask\n",
        "!pip install pymessenger\n",
        "!pip install schedule"
      ],
      "execution_count": 1,
      "outputs": [
        {
          "output_type": "stream",
          "text": [
            "Requirement already satisfied: Flask in /usr/local/lib/python3.6/dist-packages (0.12.2)\n",
            "Requirement already satisfied: Werkzeug>=0.7 in /usr/local/lib/python3.6/dist-packages (from Flask) (1.0.1)\n",
            "Requirement already satisfied: Jinja2>=2.4 in /usr/local/lib/python3.6/dist-packages (from Flask) (2.11.2)\n",
            "Requirement already satisfied: click>=2.0 in /usr/local/lib/python3.6/dist-packages (from Flask) (7.1.2)\n",
            "Requirement already satisfied: itsdangerous>=0.21 in /usr/local/lib/python3.6/dist-packages (from Flask) (1.1.0)\n",
            "Requirement already satisfied: MarkupSafe>=0.23 in /usr/local/lib/python3.6/dist-packages (from Jinja2>=2.4->Flask) (1.1.1)\n",
            "Requirement already satisfied: pymessenger in /usr/local/lib/python3.6/dist-packages (0.0.7.0)\n",
            "Requirement already satisfied: requests-toolbelt in /usr/local/lib/python3.6/dist-packages (from pymessenger) (0.9.1)\n",
            "Requirement already satisfied: requests in /usr/local/lib/python3.6/dist-packages (from pymessenger) (2.23.0)\n",
            "Requirement already satisfied: six in /usr/local/lib/python3.6/dist-packages (from pymessenger) (1.15.0)\n",
            "Requirement already satisfied: certifi>=2017.4.17 in /usr/local/lib/python3.6/dist-packages (from requests->pymessenger) (2020.6.20)\n",
            "Requirement already satisfied: chardet<4,>=3.0.2 in /usr/local/lib/python3.6/dist-packages (from requests->pymessenger) (3.0.4)\n",
            "Requirement already satisfied: urllib3!=1.25.0,!=1.25.1,<1.26,>=1.21.1 in /usr/local/lib/python3.6/dist-packages (from requests->pymessenger) (1.24.3)\n",
            "Requirement already satisfied: idna<3,>=2.5 in /usr/local/lib/python3.6/dist-packages (from requests->pymessenger) (2.10)\n",
            "Requirement already satisfied: schedule in /usr/local/lib/python3.6/dist-packages (0.6.0)\n"
          ],
          "name": "stdout"
        }
      ]
    },
    {
      "cell_type": "code",
      "metadata": {
        "id": "Pjz9238qJtL6",
        "outputId": "3eb997f5-a96c-4a0c-94ee-251228b94a75",
        "colab": {
          "base_uri": "https://localhost:8080/"
        }
      },
      "source": [
        "!pip install flask-ngrok flask==0.12.2"
      ],
      "execution_count": 2,
      "outputs": [
        {
          "output_type": "stream",
          "text": [
            "Requirement already satisfied: flask-ngrok in /usr/local/lib/python3.6/dist-packages (0.0.25)\n",
            "Requirement already satisfied: flask==0.12.2 in /usr/local/lib/python3.6/dist-packages (0.12.2)\n",
            "Requirement already satisfied: requests in /usr/local/lib/python3.6/dist-packages (from flask-ngrok) (2.23.0)\n",
            "Requirement already satisfied: Jinja2>=2.4 in /usr/local/lib/python3.6/dist-packages (from flask==0.12.2) (2.11.2)\n",
            "Requirement already satisfied: Werkzeug>=0.7 in /usr/local/lib/python3.6/dist-packages (from flask==0.12.2) (1.0.1)\n",
            "Requirement already satisfied: click>=2.0 in /usr/local/lib/python3.6/dist-packages (from flask==0.12.2) (7.1.2)\n",
            "Requirement already satisfied: itsdangerous>=0.21 in /usr/local/lib/python3.6/dist-packages (from flask==0.12.2) (1.1.0)\n",
            "Requirement already satisfied: chardet<4,>=3.0.2 in /usr/local/lib/python3.6/dist-packages (from requests->flask-ngrok) (3.0.4)\n",
            "Requirement already satisfied: idna<3,>=2.5 in /usr/local/lib/python3.6/dist-packages (from requests->flask-ngrok) (2.10)\n",
            "Requirement already satisfied: urllib3!=1.25.0,!=1.25.1,<1.26,>=1.21.1 in /usr/local/lib/python3.6/dist-packages (from requests->flask-ngrok) (1.24.3)\n",
            "Requirement already satisfied: certifi>=2017.4.17 in /usr/local/lib/python3.6/dist-packages (from requests->flask-ngrok) (2020.6.20)\n",
            "Requirement already satisfied: MarkupSafe>=0.23 in /usr/local/lib/python3.6/dist-packages (from Jinja2>=2.4->flask==0.12.2) (1.1.1)\n"
          ],
          "name": "stdout"
        }
      ]
    },
    {
      "cell_type": "code",
      "metadata": {
        "id": "o6q7J3XP4ecr",
        "outputId": "a372cd26-a060-4b00-ab17-7fbafb50457a",
        "colab": {
          "base_uri": "https://localhost:8080/"
        }
      },
      "source": [
        "#Python libraries that we need to import for our bot\n",
        "import random\n",
        "from flask import Flask, request\n",
        "from pymessenger.bot import Bot\n",
        "from flask_ngrok import run_with_ngrok\n",
        "\n",
        "app = Flask(__name__)\n",
        "run_with_ngrok(app)\n",
        "\n",
        "ACCESS_TOKEN = 'EAAV5cyiWGJ4BAB2CM8rOkIZCpcZAGeteIa7LojlbkNuWBJ70pr0gdsY0xFaQYFafTAL2pmaIt7HsmQLexAZBcoSCx5ZB9gjGpL1MOZC5qPJ7bmdOTnWCmiJOx7pflqqbPRn2QlejgvyTwbGuB3pM6hR3ZBFXYn59jWX8AFR1PnBe7lrGZCw5OE3'\n",
        "VERIFY_TOKEN = 'LearningEnglish'\n",
        "bot = Bot(ACCESS_TOKEN)\n",
        "\n",
        "#We will receive messages that Facebook sends our bot at this endpoint \n",
        "@app.route(\"/\", methods=['GET', 'POST'])\n",
        "def receive_message():\n",
        "    if request.method == 'GET':\n",
        "        \"\"\"Before allowing people to message your bot, Facebook has implemented a verify token\n",
        "        that confirms all requests that your bot receives came from Facebook.\"\"\" \n",
        "        token_sent = request.args.get(\"hub.verify_token\")\n",
        "        print(token_sent)\n",
        "        return verify_fb_token(token_sent)\n",
        "    #if the request was not get, it must be POST and we can just proceed with sending a message back to user\n",
        "    else:\n",
        "        # get whatever message a user sent the bot\n",
        "       output = request.get_json()\n",
        "       for event in output['entry']:\n",
        "          messaging = event['messaging']\n",
        "          \n",
        "          for message in messaging:\n",
        "            if message.get('message'):\n",
        "                #Facebook Messenger ID for user so we know where to send response back to\n",
        "                recipient_id = message['sender']['id']\n",
        "                print(recipient_id)\n",
        "                if message['message'].get('text'):\n",
        "                    response_sent_text = get_message()\n",
        "                    send_message(recipient_id, response_sent_text)\n",
        "                #if user sends us a GIF, photo,video, or any other non-text item\n",
        "                if message['message'].get('attachments'):\n",
        "                    response_sent_nontext = get_message()\n",
        "                    send_message(recipient_id, response_sent_nontext)\n",
        "    return \"Message Processed\"\n",
        "\n",
        "\n",
        "def verify_fb_token(token_sent):\n",
        "    #take token sent by facebook and verify it matches the verify token you sent\n",
        "    #if they match, allow the request, else return an error \n",
        "    if token_sent == VERIFY_TOKEN:\n",
        "      print(token_sent)\n",
        "      return request.args.get(\"hub.challenge\")\n",
        "    return 'Invalid verification token'\n",
        "\n",
        "\n",
        "#chooses a random message to send to the user\n",
        "def get_message():\n",
        "    sample_responses = [\"You are stunning!\", \"We're proud of you.\", \"Keep on being you!\", \"We're greatful to know you :)\"]\n",
        "    # return selected item to the user\n",
        "    return random.choice(sample_responses)\n",
        "\n",
        "#uses PyMessenger to send response to user\n",
        "def send_message(recipient_id, response):\n",
        "    #sends user the text message provided via input response parameter\n",
        "    try:\n",
        "      bot.send_text_message(recipient_id, response)\n",
        "      return \"success\"\n",
        "    except:\n",
        "      return \"fail\"\n",
        "\n",
        "if __name__ == \"__main__\":\n",
        "    app.run()"
      ],
      "execution_count": null,
      "outputs": [
        {
          "output_type": "stream",
          "text": [
            " * Running on http://127.0.0.1:5000/ (Press CTRL+C to quit)\n"
          ],
          "name": "stderr"
        },
        {
          "output_type": "stream",
          "text": [
            " * Running on http://55bd0a7d1d2f.ngrok.io\n",
            " * Traffic stats available on http://127.0.0.1:4040\n"
          ],
          "name": "stdout"
        },
        {
          "output_type": "stream",
          "text": [
            "127.0.0.1 - - [02/Nov/2020 06:12:56] \"\u001b[37mGET /?hub.mode=subscribe&hub.challenge=143739880&hub.verify_token=LearningEnglish HTTP/1.1\u001b[0m\" 200 -\n"
          ],
          "name": "stderr"
        },
        {
          "output_type": "stream",
          "text": [
            "LearningEnglish\n",
            "LearningEnglish\n"
          ],
          "name": "stdout"
        },
        {
          "output_type": "stream",
          "text": [
            "127.0.0.1 - - [02/Nov/2020 06:13:29] \"\u001b[37mPOST / HTTP/1.1\u001b[0m\" 200 -\n",
            "127.0.0.1 - - [02/Nov/2020 06:13:29] \"\u001b[37mPOST / HTTP/1.1\u001b[0m\" 200 -\n",
            "127.0.0.1 - - [02/Nov/2020 06:13:29] \"\u001b[37mPOST / HTTP/1.1\u001b[0m\" 200 -\n",
            "127.0.0.1 - - [02/Nov/2020 06:13:30] \"\u001b[37mPOST / HTTP/1.1\u001b[0m\" 200 -\n",
            "127.0.0.1 - - [02/Nov/2020 06:13:35] \"\u001b[37mPOST / HTTP/1.1\u001b[0m\" 200 -\n"
          ],
          "name": "stderr"
        },
        {
          "output_type": "stream",
          "text": [
            "2388099994534010\n"
          ],
          "name": "stdout"
        },
        {
          "output_type": "stream",
          "text": [
            "127.0.0.1 - - [02/Nov/2020 06:13:35] \"\u001b[37mPOST / HTTP/1.1\u001b[0m\" 200 -\n",
            "127.0.0.1 - - [02/Nov/2020 06:13:36] \"\u001b[37mPOST / HTTP/1.1\u001b[0m\" 200 -\n"
          ],
          "name": "stderr"
        },
        {
          "output_type": "stream",
          "text": [
            "2183400581923526\n"
          ],
          "name": "stdout"
        },
        {
          "output_type": "stream",
          "text": [
            "127.0.0.1 - - [02/Nov/2020 06:13:39] \"\u001b[37mPOST / HTTP/1.1\u001b[0m\" 200 -\n",
            "127.0.0.1 - - [02/Nov/2020 06:14:15] \"\u001b[37mPOST / HTTP/1.1\u001b[0m\" 200 -\n"
          ],
          "name": "stderr"
        },
        {
          "output_type": "stream",
          "text": [
            "2388099994534010\n"
          ],
          "name": "stdout"
        },
        {
          "output_type": "stream",
          "text": [
            "127.0.0.1 - - [02/Nov/2020 06:17:00] \"\u001b[37mPOST / HTTP/1.1\u001b[0m\" 200 -\n",
            "127.0.0.1 - - [02/Nov/2020 06:17:00] \"\u001b[37mPOST / HTTP/1.1\u001b[0m\" 200 -\n",
            "127.0.0.1 - - [02/Nov/2020 06:17:00] \"\u001b[37mPOST / HTTP/1.1\u001b[0m\" 200 -\n"
          ],
          "name": "stderr"
        },
        {
          "output_type": "stream",
          "text": [
            "2183400581923526\n"
          ],
          "name": "stdout"
        },
        {
          "output_type": "stream",
          "text": [
            "127.0.0.1 - - [02/Nov/2020 06:17:00] \"\u001b[37mPOST / HTTP/1.1\u001b[0m\" 200 -\n",
            "127.0.0.1 - - [02/Nov/2020 06:17:04] \"\u001b[37mPOST / HTTP/1.1\u001b[0m\" 200 -\n"
          ],
          "name": "stderr"
        },
        {
          "output_type": "stream",
          "text": [
            "2388099994534010\n"
          ],
          "name": "stdout"
        },
        {
          "output_type": "stream",
          "text": [
            "127.0.0.1 - - [02/Nov/2020 06:17:04] \"\u001b[37mPOST / HTTP/1.1\u001b[0m\" 200 -\n",
            "127.0.0.1 - - [02/Nov/2020 06:17:05] \"\u001b[37mPOST / HTTP/1.1\u001b[0m\" 200 -\n"
          ],
          "name": "stderr"
        },
        {
          "output_type": "stream",
          "text": [
            "2183400581923526\n"
          ],
          "name": "stdout"
        },
        {
          "output_type": "stream",
          "text": [
            "127.0.0.1 - - [02/Nov/2020 06:17:05] \"\u001b[37mPOST / HTTP/1.1\u001b[0m\" 200 -\n",
            "127.0.0.1 - - [02/Nov/2020 06:17:29] \"\u001b[37mGET / HTTP/1.1\u001b[0m\" 200 -\n"
          ],
          "name": "stderr"
        },
        {
          "output_type": "stream",
          "text": [
            "None\n"
          ],
          "name": "stdout"
        }
      ]
    },
    {
      "cell_type": "code",
      "metadata": {
        "id": "j9vmtaDiBk58"
      },
      "source": [
        "!pip freeze>requirements.txt"
      ],
      "execution_count": 7,
      "outputs": []
    },
    {
      "cell_type": "code",
      "metadata": {
        "id": "C-7FteuLEtRn"
      },
      "source": [
        "# import schedule\n",
        "# import time\n",
        "\n",
        "# def job():\n",
        "#     send_message(\"2388099994534010\",\"Hello\")\n",
        "\n",
        "# schedule.every(3).minutes.do(job)\n",
        "# schedule.every().hour.do(job)\n",
        "# schedule.every().day.at(\"10:30\").do(job)\n",
        "# schedule.every(5).to(10).minutes.do(job)\n",
        "# schedule.every().monday.do(job)\n",
        "# schedule.every().wednesday.at(\"13:15\").do(job)\n",
        "# schedule.every().minute.at(\":17\").do(job)\n",
        "\n",
        "# while True:\n",
        "#     schedule.run_pending()\n",
        "#     time.sleep(1)"
      ],
      "execution_count": null,
      "outputs": []
    },
    {
      "cell_type": "markdown",
      "metadata": {
        "id": "unkg8h5ZGcuN"
      },
      "source": [
        "TRIỂN KHAI TRÊN HEROKU\n",
        "\n",
        "1) Có tài khoản"
      ]
    }
  ]
}